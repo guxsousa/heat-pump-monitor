{
 "cells": [
  {
   "cell_type": "markdown",
   "metadata": {},
   "source": [
    "# HeatPumpMonitor.org `API` example\n",
    "Part of the OpenEnergyMonitor project: \n",
    "https://openenergymonitor.org"
   ]
  },
  {
   "cell_type": "code",
   "execution_count": null,
   "metadata": {},
   "outputs": [],
   "source": [
    "import sys\n",
    "import os\n",
    "import json\n",
    "import requests\n",
    "import datetime\n",
    "\n",
    "import seaborn as sns\n",
    "import matplotlib.pyplot as plt\n",
    "import pandas as pd\n",
    "\n",
    "from tabulate import tabulate\n",
    "\n",
    "sys.path.insert(0, os.path.abspath(os.path.join('..', 'module')))\n",
    "\n",
    "from globalset import *\n",
    "from parser import *"
   ]
  },
  {
   "cell_type": "markdown",
   "metadata": {},
   "source": [
    "## Retrieve summary data from API"
   ]
  },
  {
   "cell_type": "code",
   "execution_count": 2,
   "metadata": {},
   "outputs": [],
   "source": [
    "meta = fetch_public_devices()\n",
    "\n",
    "with open(os.path.join(DATA_DIR, 'metadata.json'), 'w') as f:\n",
    "    json.dump(meta, f)"
   ]
  },
  {
   "cell_type": "code",
   "execution_count": 3,
   "metadata": {},
   "outputs": [],
   "source": [
    "stats = fetch_public_devices_last_stats()\n",
    "\n",
    "with open(os.path.join(DATA_DIR, 'last_90_days.json'), 'w') as f:\n",
    "    json.dump(stats, f)"
   ]
  },
  {
   "cell_type": "markdown",
   "metadata": {},
   "source": [
    "## Convert the stats dictionary to a pandas DataFrame"
   ]
  },
  {
   "cell_type": "code",
   "execution_count": 4,
   "metadata": {},
   "outputs": [],
   "source": [
    "stats_df = pd.json_normalize(stats.values())\n",
    "meta_df = pd.json_normalize(meta)\n",
    "merged_df = pd.merge(stats_df, meta_df, on='id')\n",
    "merged_df.to_csv(os.path.join(DATA_DIR, 'merged_stats_meta.csv'), index=False)"
   ]
  },
  {
   "cell_type": "code",
   "execution_count": null,
   "metadata": {},
   "outputs": [],
   "source": [
    "selected_columns = merged_df[['id', 'location', 'property', 'age', 'hp_output', 'hp_model', 'combined_cop', 'combined_data_length']].copy()\n",
    "selected_columns.loc[:, 'days'] = selected_columns['combined_data_length'] / 86400\n",
    "selected_columns.drop(columns=['combined_data_length'], inplace=True)\n",
    "selected_columns.rename(columns={'combined_cop': 'cop'}, inplace=True)\n",
    "selected_columns.sort_values(by='cop', ascending=False, inplace=True)\n",
    "\n",
    "print(\"HeatPumpMonitor.org systems (sorted by COP, descending, last 90 days)\")\n",
    "print(tabulate(selected_columns, headers='keys', tablefmt='psql'))"
   ]
  },
  {
   "cell_type": "markdown",
   "metadata": {},
   "source": [
    "## Obtain summary from heat pump `by id`"
   ]
  },
  {
   "cell_type": "code",
   "execution_count": null,
   "metadata": {},
   "outputs": [],
   "source": [
    "k_id = 152\n",
    "\n",
    "metaid = get_system_meta(k_id)\n",
    "print(tabulate(metaid.items(), headers=[\"Key\", \"Value\"], tablefmt=\"psql\"))"
   ]
  },
  {
   "cell_type": "markdown",
   "metadata": {},
   "source": [
    "## Obtain **timeseries** from heat pump `by id`\n",
    "\n",
    "Display available feeds first..."
   ]
  },
  {
   "cell_type": "code",
   "execution_count": null,
   "metadata": {},
   "outputs": [],
   "source": [
    "ts_id = get_system_timeseries(k_id)\n",
    "print(tabulate(ts_id, headers=\"keys\", tablefmt=\"psql\"))"
   ]
  },
  {
   "cell_type": "markdown",
   "metadata": {},
   "source": [
    "And then request a feed for that id..."
   ]
  },
  {
   "cell_type": "code",
   "execution_count": null,
   "metadata": {},
   "outputs": [],
   "source": [
    "k_variable = 'heatpump_outsideT'\n",
    "k_from = '06-01-2024'\n",
    "k_to = '03-01-2025'\n",
    "k_resolution = 3600\n",
    "\n",
    "timeseries = fetch_timeseries_data(k_id, k_variable, k_from, k_to, k_resolution, 1)\n",
    "print(tabulate(timeseries.head(), headers=\"keys\", tablefmt=\"psql\"))"
   ]
  },
  {
   "cell_type": "markdown",
   "metadata": {},
   "source": [
    "## Combine feeds"
   ]
  },
  {
   "cell_type": "code",
   "execution_count": null,
   "metadata": {},
   "outputs": [],
   "source": [
    "index_interval_pairs = list(ts_id['interval__s'].items())\n",
    "print(index_interval_pairs)\n",
    "\n",
    "d_timeseries = {}\n",
    "for k_variable, k_resolution in index_interval_pairs:\n",
    "    k_res = k_resolution\n",
    "    k_res = 3600\n",
    "    timeseries = fetch_timeseries_data(k_id, k_variable, k_from, k_to, k_res, 1)\n",
    "    d_timeseries[k_variable] = timeseries\n",
    "\n",
    "combined_df = pd.concat(d_timeseries.values(), keys=d_timeseries.keys(), names=['variable', 'index']).reset_index(level='variable')\n",
    "combined_df.reset_index(inplace=True)\n",
    "combined_df.drop(columns=['index', 'variable'], inplace=True)\n",
    "combined_df.head()"
   ]
  },
  {
   "cell_type": "code",
   "execution_count": 24,
   "metadata": {},
   "outputs": [],
   "source": [
    "k_variable = 'heatpump_outsideT'\n",
    "timeseries_a = combined_df.loc[combined_df['feed'] == k_variable]\n",
    "\n",
    "k_variable = 'heatpump_roomT'\n",
    "timeseries_b = combined_df.loc[combined_df['feed'] == k_variable]\n",
    "\n",
    "k_variable = 'heatpump_elec'\n",
    "timeseries_c = combined_df.loc[combined_df['feed'] == k_variable]\n",
    "\n",
    "k_variable = 'heatpump_heat'\n",
    "timeseries_d = combined_df.loc[combined_df['feed'] == k_variable]\n",
    "\n",
    "k_variable = 'heatpump_elec_kwh'\n",
    "timeseries_e = combined_df.loc[combined_df['feed'] == k_variable]\n",
    "\n",
    "k_variable = 'heatpump_heat_kwh'\n",
    "timeseries_f = combined_df.loc[combined_df['feed'] == k_variable]\n",
    "\n",
    "k_variable = 'heatpump_flowT'\n",
    "timeseries_g = combined_df.loc[combined_df['feed'] == k_variable]\n",
    "\n",
    "k_variable = 'heatpump_returnT'\n",
    "timeseries_h = combined_df.loc[combined_df['feed'] == k_variable]\n",
    "\n",
    "k_variable = 'heatpump_flowrate'\n",
    "timeseries_i = combined_df.loc[combined_df['feed'] == k_variable]\n",
    "\n",
    "k_variable = 'heatpump_dhw'\n",
    "timeseries_j = combined_df.loc[combined_df['feed'] == k_variable]\n",
    "\n",
    "timeseries_k = pd.merge(timeseries_a, timeseries_g, on='datetime')\n",
    "timeseries_k['deltaT'] = timeseries_k['value_y'] - timeseries_k['value_x']\n",
    "timeseries_k = timeseries_k[['datetime', 'deltaT']]\n",
    "\n",
    "timeseries_l = pd.merge(timeseries_c, timeseries_d, on='datetime')\n",
    "timeseries_l['cop'] = timeseries_l['value_y'] / timeseries_l['value_x']\n",
    "timeseries_l = timeseries_l[['datetime', 'cop']]"
   ]
  },
  {
   "cell_type": "code",
   "execution_count": null,
   "metadata": {},
   "outputs": [],
   "source": [
    "fig, ax1 = plt.subplots(figsize=(12, 6))\n",
    "\n",
    "color = 'tab:blue'\n",
    "ax1.set_xlabel('Datetime')\n",
    "ax1.set_ylabel('Temperature (°C)', color=color)\n",
    "ax1.set_ylim(-10, 30)\n",
    "sns.lineplot(data=timeseries_a, x='datetime', y='value', \n",
    "             label='Outside Temperature', ax=ax1, color=color, linewidth=1.2)\n",
    "sns.lineplot(data=timeseries_b, x='datetime', y='value', \n",
    "             label='Room Temperature', ax=ax1, color='tab:green', linewidth=1.2)\n",
    "ax1.tick_params(axis='y', labelcolor=color)\n",
    "ax1.legend(loc='upper left')\n",
    "\n",
    "ax2 = ax1.twinx()\n",
    "color = 'tab:red'\n",
    "ax2.set_ylabel('Power demand (W)', color=color)\n",
    "ax2.set_ylim(0, 10000)\n",
    "ax2.fill_between(timeseries_c['datetime'], timeseries_c['value'], color='tab:orange', alpha=0.3, label='Electricity Power')\n",
    "ax2.fill_between(timeseries_d['datetime'], timeseries_d['value'], color=color, alpha=0.3, label='Heat Power')\n",
    "ax2.tick_params(axis='y', labelcolor=color)\n",
    "ax2.legend(loc='upper right')\n",
    "\n",
    "plt.title('Heat pump performance over time')\n",
    "plt.xticks(rotation=45)\n",
    "plt.tight_layout()\n",
    "plt.show()"
   ]
  },
  {
   "cell_type": "code",
   "execution_count": null,
   "metadata": {},
   "outputs": [],
   "source": [
    "fig, ax1 = plt.subplots(figsize=(12, 6))\n",
    "\n",
    "color = 'tab:blue'\n",
    "ax1.set_xlabel('Datetime')\n",
    "ax1.set_ylabel('Temperature (°C)', color=color)\n",
    "ax1.set_ylim(0, 60)\n",
    "sns.lineplot(data=timeseries_g, x='datetime', y='value',\n",
    "             label='Flow Temperature [C]', ax=ax1, color=color, linewidth=1.2)\n",
    "sns.lineplot(data=timeseries_h, x='datetime', y='value',\n",
    "             label='Return Temperature [C]', ax=ax1, color='tab:green', linewidth=1.2)\n",
    "ax1.tick_params(axis='y', labelcolor=color)\n",
    "ax1.legend(loc='upper left')\n",
    "\n",
    "ax1.fill_between(timeseries_g['datetime'], timeseries_g['value'],\n",
    "                 timeseries_h['value'], color='gray', alpha=0.3, label='Temperature Difference')\n",
    "ax1.legend(loc='upper left')\n",
    "\n",
    "ax2 = ax1.twinx()\n",
    "color = 'tab:red'\n",
    "ax2.set_ylabel('Power demand (W)', color=color)\n",
    "ax2.set_ylim(0, 10000)\n",
    "ax2.fill_between(timeseries_c['datetime'], timeseries_c['value'], color='tab:orange', alpha=0.3, label='Electricity Power')\n",
    "ax2.fill_between(timeseries_d['datetime'], timeseries_d['value'], color=color, alpha=0.3, label='Heat Power')\n",
    "ax2.tick_params(axis='y', labelcolor=color)\n",
    "ax2.legend(loc='upper right')\n",
    "\n",
    "plt.title('Heatpump performance over time')\n",
    "plt.xticks(rotation=45)\n",
    "plt.tight_layout()\n",
    "plt.show()"
   ]
  },
  {
   "cell_type": "code",
   "execution_count": null,
   "metadata": {},
   "outputs": [],
   "source": [
    "fig, ax1 = plt.subplots(figsize=(12, 6))\n",
    "\n",
    "color = 'tab:blue'\n",
    "ax1.set_xlabel('Datetime')\n",
    "ax1.set_ylabel('Temperature (°C)', color=color)\n",
    "# ax1.set_ylim(0, 60)\n",
    "sns.lineplot(data=timeseries_g, x='datetime', y='value', \n",
    "             label='Flow Temperature [C]', ax=ax1, color=color, linewidth=1.2)\n",
    "sns.lineplot(data=timeseries_h, x='datetime', y='value', \n",
    "             label='Return Temperature [C]', ax=ax1, color='tab:green', linewidth=1.2)\n",
    "ax1.tick_params(axis='y', labelcolor=color)\n",
    "ax1.legend(loc='upper left')\n",
    "\n",
    "ax1.fill_between(timeseries_g['datetime'], timeseries_g['value'],\n",
    "                 timeseries_h['value'], color='gray', alpha=0.3, label='Temperature Difference')\n",
    "ax1.legend(loc='upper left')\n",
    "\n",
    "plt.title('Heatpump performance over time')\n",
    "plt.xticks(rotation=45)\n",
    "plt.tight_layout()\n",
    "plt.show()"
   ]
  },
  {
   "cell_type": "code",
   "execution_count": null,
   "metadata": {},
   "outputs": [],
   "source": [
    "timeseries_kl = pd.merge(timeseries_k, timeseries_l, on='datetime')\n",
    "timeseries_kl\n",
    "\n",
    "plt.figure(figsize=(10, 6))\n",
    "sns.scatterplot(data=timeseries_kl, x='deltaT', y='cop')\n",
    "plt.title('Delta_T (Flow Temperature - Outside Temperature) vs COP')\n",
    "plt.xlabel('Delta_T (°C) : Flow Temperature - Outside Temperature')\n",
    "plt.ylabel('COP')\n",
    "plt.grid(True)\n",
    "plt.tight_layout()\n",
    "plt.show()"
   ]
  },
  {
   "cell_type": "code",
   "execution_count": null,
   "metadata": {},
   "outputs": [],
   "source": [
    "start_date = timeseries_l['datetime'].min()\n",
    "end_date = timeseries_l['datetime'].max()\n",
    "plot_title = f\"[{start_date} to {end_date}]\"\n",
    "\n",
    "sns.histplot(data=timeseries_l, x='cop', bins=30, kde=True)\n",
    "plt.title('Distribution of COP values ' + plot_title)\n",
    "plt.xlabel('COP')\n",
    "plt.ylabel('Frequency')\n",
    "plt.grid(True)\n",
    "plt.tight_layout()\n",
    "plt.show()"
   ]
  }
 ],
 "metadata": {
  "kernelspec": {
   "display_name": "hp-monitor-org--O2Suci8-py3.12",
   "language": "python",
   "name": "python3"
  },
  "language_info": {
   "codemirror_mode": {
    "name": "ipython",
    "version": 3
   },
   "file_extension": ".py",
   "mimetype": "text/x-python",
   "name": "python",
   "nbconvert_exporter": "python",
   "pygments_lexer": "ipython3",
   "version": "3.12.8"
  }
 },
 "nbformat": 4,
 "nbformat_minor": 2
}
