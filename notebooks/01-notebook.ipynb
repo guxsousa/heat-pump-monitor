{
 "cells": [
  {
   "attachments": {},
   "cell_type": "markdown",
   "metadata": {},
   "source": [
    "# Python Project Template"
   ]
  },
  {
   "cell_type": "code",
   "execution_count": null,
   "metadata": {},
   "outputs": [],
   "source": [
    "import sys\n",
    "import os\n",
    "\n",
    "sys.path.insert(0, os.path.abspath(os.path.join('..', 'module')))\n",
    "\n",
    "from globalset import *"
   ]
  },
  {
   "attachments": {},
   "cell_type": "markdown",
   "metadata": {},
   "source": [
    "<!-- ----\n",
    "\n",
    "## Correct headers\n",
    "\n",
    "script:\n",
    "```sh\n",
    "for file in $* ; do\n",
    "  printf \"${msgcolor}file to edit${normal}: $file\\n\"\n",
    "  new_header=$(tr '\\n' ',' < $file | sed 's/,$/\\n/')\n",
    "  echo $new_header > $file\n",
    "  printf \"${number}result${normal} → ${menu}$new_header${normal}\\n\\n\"\n",
    "done\n",
    "```\n",
    "\n",
    "call:\n",
    "```sh\n",
    "./edit_headers.sh `find /Users/gustavo/google_drive/data_sources/Ordnance_Survey/_for_graph -type f -name \"*header.csv\"`\n",
    "``` -->\n"
   ]
  }
 ],
 "metadata": {
  "kernelspec": {
   "display_name": "osd-graph",
   "language": "python",
   "name": "python3"
  },
  "language_info": {
   "codemirror_mode": {
    "name": "ipython",
    "version": 3
   },
   "file_extension": ".py",
   "mimetype": "text/x-python",
   "name": "python",
   "nbconvert_exporter": "python",
   "pygments_lexer": "ipython3",
   "version": "3.10.13"
  },
  "orig_nbformat": 4
 },
 "nbformat": 4,
 "nbformat_minor": 2
}
